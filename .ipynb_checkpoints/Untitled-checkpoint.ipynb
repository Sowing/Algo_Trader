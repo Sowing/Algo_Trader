{
 "cells": [
  {
   "cell_type": "code",
   "execution_count": 19,
   "metadata": {},
   "outputs": [],
   "source": [
    "import sqlite3\n",
    "import os\n",
    "import pandas as pd\n",
    "import bokeh\n",
    "import model\n",
    "import API\n",
    "from bokeh.plotting import figure, output_file, show\n",
    "from bokeh.models import DatetimeTickFormatter\n",
    "from datetime import date as date_module\n",
    "import datetime"
   ]
  },
  {
   "cell_type": "code",
   "execution_count": 21,
   "metadata": {},
   "outputs": [
    {
     "name": "stdout",
     "output_type": "stream",
     "text": [
      "Current holdings:\n",
      "{u'JPY': [-50000.0, 5638999.95]}\n",
      "Current holdings:\n",
      "{u'JPY': [-50000.0, 5638999.95]}\n",
      "Current holdings:\n",
      "{u'JPY': [-50000.0, 5638999.95]}\n",
      "Current holdings:\n",
      "{u'JPY': [-50000.0, 5638999.95]}\n",
      "Current holdings:\n",
      "{u'JPY': [-50000.0, 5638999.95]}\n",
      "Current holdings:\n",
      "{u'JPY': [-50000.0, 5638999.95]}\n",
      "Current holdings:\n",
      "{u'JPY': [-50000.0, 5638999.95]}\n",
      "Current holdings:\n",
      "{u'JPY': [-50000.0, 5638999.95]}\n",
      "Current holdings:\n",
      "{u'JPY': [-50000.0, 5638999.95]}\n",
      "Current holdings:\n",
      "{u'JPY': [-50000.0, 5638999.95]}\n",
      "Current holdings:\n",
      "{u'JPY': [-50000.0, 5638999.95]}\n",
      "Current holdings:\n",
      "{u'JPY': [-50000.0, 5638999.95]}\n",
      "Current holdings:\n",
      "{u'JPY': [-50000.0, 5638999.95]}\n",
      "Current holdings:\n",
      "{u'JPY': [-50000.0, 5638999.95]}\n",
      "Current holdings:\n",
      "{u'JPY': [-50000.0, 5638999.95]}\n",
      "Current holdings:\n",
      "{u'JPY': [-50000.0, 5638999.95]}\n",
      "Current holdings:\n",
      "{u'JPY': [-50000.0, 5638999.95]}\n",
      "Current holdings:\n",
      "{u'JPY': [-50000.0, 5638999.95]}\n",
      "Current holdings:\n",
      "{u'JPY': [-50000.0, 5638999.95]}\n",
      "Current holdings:\n",
      "{u'JPY': [-50000.0, 5638999.95]}\n",
      "Current holdings:\n",
      "{u'JPY': [-50000.0, 5638999.95]}\n",
      "Current holdings:\n",
      "{u'JPY': [-50000.0, 5638999.95]}\n",
      "Current holdings:\n",
      "{u'JPY': [-50000.0, 5638999.95]}\n",
      "Current holdings:\n",
      "{u'JPY': [-50000.0, 5638999.95]}\n",
      "Current holdings:\n",
      "{u'JPY': [-50000.0, 5638999.95]}\n",
      "Current holdings:\n",
      "{u'JPY': [-50000.0, 5638999.95]}\n",
      "Current holdings:\n",
      "{u'JPY': [-50000.0, 5638999.95]}\n",
      "Current holdings:\n",
      "{u'JPY': [-50000.0, 5638999.95]}\n",
      "Current holdings:\n",
      "{u'JPY': [-50000.0, 5638999.95]}\n",
      "Current holdings:\n",
      "{u'JPY': [-50000.0, 5638999.95]}\n",
      "Current holdings:\n",
      "{u'JPY': [-50000.0, 5638999.95]}\n",
      "Current holdings:\n",
      "{u'JPY': [-50000.0, 5638999.95]}\n",
      "Current holdings:\n",
      "{u'JPY': [-50000.0, 5638999.95]}\n",
      "Current holdings:\n",
      "{u'JPY': [-50000.0, 5638999.95]}\n",
      "Current holdings:\n",
      "{u'JPY': [-50000.0, 5638999.95]}\n",
      "Current holdings:\n",
      "{u'JPY': [-50000.0, 5638999.95]}\n",
      "Current holdings:\n",
      "{u'JPY': [-50000.0, 5638999.95]}\n",
      "Current holdings:\n",
      "{u'JPY': [-50000.0, 5638999.95]}\n",
      "Current holdings:\n",
      "{u'JPY': [-50000.0, 5638999.95]}\n",
      "Current holdings:\n",
      "{u'JPY': [-50000.0, 5638999.95]}\n",
      "Current holdings:\n",
      "{u'JPY': [-50000.0, 5638999.95]}\n",
      "Current holdings:\n",
      "{u'JPY': [-50000.0, 5638999.95]}\n",
      "Current holdings:\n",
      "{u'JPY': [-50000.0, 5638999.95]}\n",
      "Current holdings:\n",
      "{u'JPY': [-50000.0, 5638999.95]}\n",
      "Current holdings:\n",
      "{u'JPY': [-50000.0, 5638999.95]}\n",
      "Current holdings:\n",
      "{u'JPY': [-50000.0, 5638999.95]}\n",
      "Current holdings:\n",
      "{u'JPY': [-50000.0, 5638999.95]}\n",
      "Current holdings:\n",
      "{u'JPY': [-50000.0, 5638999.95]}\n",
      "Current holdings:\n",
      "{u'JPY': [-50000.0, 5638999.95]}\n",
      "Current holdings:\n",
      "{u'JPY': [-50000.0, 5638999.95]}\n",
      "Current holdings:\n",
      "{u'JPY': [-50000.0, 5638999.95]}\n",
      "Current holdings:\n",
      "{u'JPY': [-50000.0, 5638999.95]}\n",
      "Current holdings:\n",
      "{u'JPY': [-50000.0, 5638999.95]}\n",
      "Current holdings:\n",
      "{u'JPY': [-50000.0, 5638999.95]}\n",
      "Current holdings:\n",
      "{u'JPY': [-50000.0, 5638999.95]}\n",
      "Current holdings:\n",
      "{u'JPY': [-50000.0, 5638999.95]}\n",
      "Current holdings:\n",
      "{u'JPY': [-50000.0, 5638999.95]}\n",
      "Current holdings:\n",
      "{u'JPY': [-50000.0, 5638999.95]}\n",
      "Current holdings:\n",
      "{u'JPY': [-50000.0, 5638999.95]}\n",
      "Current holdings:\n",
      "{u'JPY': [-50000.0, 5638999.95]}\n",
      "Current holdings:\n",
      "{u'JPY': [-47500.0, 5374709.9425]}\n",
      "Current holdings:\n",
      "{u'JPY': [-47500.0, 5374709.9425], u'CNY': [-2500.0, 15856.76]}\n",
      "Current holdings:\n",
      "{u'JPY': [-47500.0, 5374709.9425], u'CNY': [-2500.0, 15856.76]}\n",
      "Current holdings:\n",
      "{u'JPY': [-47500.0, 5374709.9425], u'CNY': [-2500.0, 15856.76]}\n",
      "Current holdings:\n",
      "{u'JPY': [-47500.0, 5374709.9425], u'CNY': [-2500.0, 15856.76]}\n",
      "Current holdings:\n",
      "{u'JPY': [-47500.0, 5374709.9425], u'CNY': [-2500.0, 15856.76]}\n",
      "Current holdings:\n",
      "{u'JPY': [-47500.0, 5374709.9425], u'CNY': [-2500.0, 15856.76]}\n",
      "Current holdings:\n",
      "{u'JPY': [-47500.0, 5374709.9425], u'CNY': [-2500.0, 15856.76]}\n",
      "Current holdings:\n",
      "{u'JPY': [-47500.0, 5374709.9425], u'CNY': [-2500.0, 15856.76]}\n",
      "Current holdings:\n",
      "{u'JPY': [-47500.0, 5374709.9425], u'CNY': [-2500.0, 15856.76]}\n",
      "Current holdings:\n",
      "{u'JPY': [-47500.0, 5374709.9425], u'CNY': [-2500.0, 15856.76]}\n",
      "Current holdings:\n",
      "{u'JPY': [-47500.0, 5374709.9425], u'CNY': [-2500.0, 15856.76]}\n",
      "Current holdings:\n",
      "{u'JPY': [-47500.0, 5374709.9425], u'CNY': [-2500.0, 15856.76]}\n",
      "Current holdings:\n",
      "{u'JPY': [-47500.0, 5374709.9425], u'CNY': [-2500.0, 15856.76]}\n",
      "Current holdings:\n",
      "{u'JPY': [-47500.0, 5374709.9425], u'CNY': [-2500.0, 15856.76]}\n",
      "Current holdings:\n",
      "{u'JPY': [-47500.0, 5374709.9425], u'CNY': [-2500.0, 15856.76]}\n",
      "Current holdings:\n",
      "{u'JPY': [-47500.0, 5374709.9425], u'CNY': [-2500.0, 15856.76]}\n",
      "Current holdings:\n",
      "{u'JPY': [-47500.0, 5374709.9425], u'CNY': [-2500.0, 15856.76]}\n",
      "Current holdings:\n",
      "{u'JPY': [-47500.0, 5374709.9425], u'CNY': [-2500.0, 15856.76]}\n",
      "Current holdings:\n",
      "{u'JPY': [-47500.0, 5374709.9425], u'CNY': [-2500.0, 15856.76]}\n",
      "Current holdings:\n",
      "{u'JPY': [-47500.0, 5374709.9425], u'CNY': [-2500.0, 15856.76]}\n",
      "Current holdings:\n",
      "{u'JPY': [-47500.0, 5374709.9425], u'CNY': [-2500.0, 15856.76]}\n",
      "Current holdings:\n",
      "{u'JPY': [-47500.0, 5374709.9425], u'CNY': [-2500.0, 15856.76]}\n",
      "Current holdings:\n",
      "{u'JPY': [-47500.0, 5374709.9425], u'CNY': [-2500.0, 15856.76]}\n",
      "Current holdings:\n",
      "{u'JPY': [-47500.0, 5374709.9425], u'CNY': [-2500.0, 15856.76]}\n",
      "Current holdings:\n",
      "{u'JPY': [-47500.0, 5374709.9425], u'CNY': [-2500.0, 15856.76]}\n",
      "Current holdings:\n",
      "{u'JPY': [-47500.0, 5374709.9425], u'CNY': [-2500.0, 15856.76]}\n",
      "Current holdings:\n",
      "{u'JPY': [-47500.0, 5374709.9425], u'CNY': [-2500.0, 15856.76]}\n",
      "Current holdings:\n",
      "{u'JPY': [-47500.0, 5374709.9425], u'CNY': [-2500.0, 15856.76]}\n",
      "Current holdings:\n",
      "{u'JPY': [-47500.0, 5374709.9425], u'CNY': [-2500.0, 15856.76]}\n",
      "Current holdings:\n",
      "{u'JPY': [-47500.0, 5374709.9425], u'CNY': [-2500.0, 15856.76]}\n",
      "Current holdings:\n",
      "{u'JPY': [-47500.0, 5374709.9425], u'CNY': [-2500.0, 15856.76]}\n",
      "Current holdings:\n",
      "{u'JPY': [-47500.0, 5374709.9425], u'CNY': [-2500.0, 15856.76]}\n",
      "Current holdings:\n",
      "{u'JPY': [-47500.0, 5374709.9425], u'CNY': [-2500.0, 15856.76]}\n",
      "Current holdings:\n",
      "{u'JPY': [-47500.0, 5374709.9425], u'CNY': [-2500.0, 15856.76]}\n",
      "Current holdings:\n",
      "{u'JPY': [-47500.0, 5374709.9425], u'CNY': [-2500.0, 15856.76]}\n",
      "Current holdings:\n",
      "{u'JPY': [-47500.0, 5374709.9425], u'CNY': [-2500.0, 15856.76]}\n",
      "Current holdings:\n",
      "{u'JPY': [-47500.0, 5374709.9425], u'CNY': [-2500.0, 15856.76]}\n",
      "Current holdings:\n",
      "{u'JPY': [-47500.0, 5374709.9425], u'CNY': [-2500.0, 15856.76]}\n",
      "Current holdings:\n",
      "{u'JPY': [-47500.0, 5374709.9425], u'CNY': [-2500.0, 15856.76]}\n",
      "Current holdings:\n",
      "{u'JPY': [-47500.0, 5374709.9425], u'CNY': [-2500.0, 15856.76]}\n",
      "Current holdings:\n",
      "{u'JPY': [-47500.0, 5374709.9425], u'CNY': [-2500.0, 15856.76]}\n",
      "Current holdings:\n",
      "{u'JPY': [-47500.0, 5374709.9425], u'CNY': [-2500.0, 15856.76]}\n",
      "Current holdings:\n",
      "{u'JPY': [-47500.0, 5374709.9425], u'CNY': [-2500.0, 15856.76]}\n",
      "Current holdings:\n",
      "{u'JPY': [-47500.0, 5374709.9425], u'CNY': [-2500.0, 15856.76]}\n",
      "Current holdings:\n",
      "{u'JPY': [-47500.0, 5374709.9425], u'CNY': [-2500.0, 15856.76]}\n",
      "Current holdings:\n",
      "{u'JPY': [-47500.0, 5374709.9425], u'CNY': [-2500.0, 15856.76]}\n",
      "Current holdings:\n",
      "{u'JPY': [-47500.0, 5374709.9425], u'CNY': [-2500.0, 15856.76]}\n",
      "Current holdings:\n",
      "{u'JPY': [-47500.0, 5374709.9425], u'CNY': [-2500.0, 15856.76]}\n",
      "Current holdings:\n",
      "{u'JPY': [-47500.0, 5374709.9425], u'CNY': [-2500.0, 15856.76]}\n",
      "Current holdings:\n",
      "{u'JPY': [-47500.0, 5374709.9425], u'CNY': [-2500.0, 15856.76]}\n",
      "Current holdings:\n",
      "{u'JPY': [-47500.0, 5374709.9425], u'CNY': [-2500.0, 15856.76]}\n",
      "Current holdings:\n",
      "{u'JPY': [-47500.0, 5374709.9425], u'CNY': [-2500.0, 15856.76]}\n",
      "Current holdings:\n",
      "{u'JPY': [-47500.0, 5374709.9425], u'CNY': [-2500.0, 15856.76]}\n",
      "Current holdings:\n",
      "{u'JPY': [-47500.0, 5374709.9425], u'CNY': [-2500.0, 15856.76]}\n",
      "Current holdings:\n",
      "{u'JPY': [-47500.0, 5374709.9425], u'CNY': [-2500.0, 15856.76]}\n",
      "Current holdings:\n",
      "{u'JPY': [-47500.0, 5374709.9425], u'CNY': [-2500.0, 15856.76]}\n",
      "Current holdings:\n",
      "{u'JPY': [-47500.0, 5374709.9425], u'CNY': [-2500.0, 15856.76]}\n",
      "Current holdings:\n",
      "{u'JPY': [-47500.0, 5374709.9425], u'CNY': [-2500.0, 15856.76]}\n",
      "Current holdings:\n",
      "{u'JPY': [-47500.0, 5374709.9425], u'CNY': [-2500.0, 15856.76]}\n",
      "Current holdings:\n",
      "{u'JPY': [-47500.0, 5374709.9425], u'CNY': [-2500.0, 15856.76]}\n",
      "Current holdings:\n",
      "{u'JPY': [-47500.0, 5374709.9425], u'CNY': [-2500.0, 15856.76]}\n"
     ]
    }
   ],
   "source": [
    "def build_index(date):\n",
    "    indexes = {}\n",
    "    for row in model.get_all_currency_information(date)[1]:\n",
    "        if row[1] == 'JPY' or row[1] == 'CNY' or row[1] == 'GBP' or row[1] == 'CAD' or row[1] == 'EUR':\n",
    "            indexes[row[1]] = row[2]\n",
    "    return indexes\n",
    "\n",
    "output_file(\"datetime.html\")\n",
    "start_date = '2018-01-01'\n",
    "end_date = '2018-05-03'\n",
    "start_date = list(map(int,start_date.split('-')))\n",
    "end_date = list(map(int,end_date.split('-')))\n",
    "start_date = date_module(start_date[0], start_date[1], start_date[2])\n",
    "end_date = date_module(end_date[0], end_date[1], end_date[2])\n",
    "date = []\n",
    "balance = []\n",
    "market = []\n",
    "base_index = build_index(start_date)\n",
    "\n",
    "for single_date in API.daterange(start_date, end_date):\n",
    "    DATE = single_date.strftime(\"%Y-%m-%d\")\n",
    "    balance.append(model.check_portfolio('nan', DATE)[1])\n",
    "    date.append(single_date)\n",
    "    performance = 0\n",
    "    for key, value in build_index(DATE).iteritems():\n",
    "        performance = base_index[key]*1.0/value + performance\n",
    "    market.append(performance*20000)\n",
    "    \n",
    "p = figure(plot_width=800, plot_height=250)   \n",
    "p.xaxis[0].formatter = DatetimeTickFormatter()\n",
    "p.line(date, balance, color='navy', alpha=0.5)\n",
    "p.line(date, market, color='red', alpha=0.5)\n",
    "script, div = components(p)\n",
    "show(p)\n"
   ]
  },
  {
   "cell_type": "code",
   "execution_count": 15,
   "metadata": {},
   "outputs": [
    {
     "data": {
      "text/plain": [
       "'2018-01-02'"
      ]
     },
     "execution_count": 15,
     "metadata": {},
     "output_type": "execute_result"
    }
   ],
   "source": [
    "date[1]"
   ]
  },
  {
   "cell_type": "code",
   "execution_count": 17,
   "metadata": {},
   "outputs": [
    {
     "data": {
      "text/plain": [
       "datetime.date(2018, 1, 2)"
      ]
     },
     "execution_count": 17,
     "metadata": {},
     "output_type": "execute_result"
    }
   ],
   "source": [
    "import datetime\n",
    "datetime.datetime.strptime(date[1], \"%Y-%m-%d\").date() "
   ]
  },
  {
   "cell_type": "code",
   "execution_count": 18,
   "metadata": {},
   "outputs": [
    {
     "name": "stdout",
     "output_type": "stream",
     "text": [
      "94675.3656094\n"
     ]
    }
   ],
   "source": [
    "day1 = {}\n",
    "\n",
    "performance = 0\n",
    "\n",
    "print performance*20000"
   ]
  },
  {
   "cell_type": "code",
   "execution_count": 12,
   "metadata": {},
   "outputs": [
    {
     "data": {
      "text/plain": [
       "{u'CAD': 1.25551, u'CNY': 6.506198, u'GBP': 0.74002, u'JPY': 112.779999}"
      ]
     },
     "execution_count": 12,
     "metadata": {},
     "output_type": "execute_result"
    }
   ],
   "source": [
    "base_index"
   ]
  },
  {
   "cell_type": "code",
   "execution_count": 22,
   "metadata": {},
   "outputs": [
    {
     "data": {
      "text/plain": [
       "{u'CAD': 1.25551,\n",
       " u'CNY': 6.506198,\n",
       " u'EUR': 0.832296,\n",
       " u'GBP': 0.74002,\n",
       " u'JPY': 112.779999}"
      ]
     },
     "execution_count": 22,
     "metadata": {},
     "output_type": "execute_result"
    }
   ],
   "source": [
    "build_index('2018-01-01')"
   ]
  },
  {
   "cell_type": "code",
   "execution_count": 24,
   "metadata": {},
   "outputs": [
    {
     "data": {
      "text/plain": [
       "{u'CAD': 1.28324,\n",
       " u'CNY': 6.356401,\n",
       " u'EUR': 0.8147,\n",
       " u'GBP': 0.72607,\n",
       " u'JPY': 106.176003}"
      ]
     },
     "execution_count": 24,
     "metadata": {},
     "output_type": "execute_result"
    }
   ],
   "source": [
    "build_index('2018-03-01')"
   ]
  },
  {
   "cell_type": "code",
   "execution_count": null,
   "metadata": {},
   "outputs": [],
   "source": []
  }
 ],
 "metadata": {
  "kernelspec": {
   "display_name": "Python 2",
   "language": "python",
   "name": "python2"
  },
  "language_info": {
   "codemirror_mode": {
    "name": "ipython",
    "version": 2
   },
   "file_extension": ".py",
   "mimetype": "text/x-python",
   "name": "python",
   "nbconvert_exporter": "python",
   "pygments_lexer": "ipython2",
   "version": "2.7.12"
  }
 },
 "nbformat": 4,
 "nbformat_minor": 2
}
